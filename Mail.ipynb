{
 "cells": [
  {
   "cell_type": "code",
   "execution_count": 2,
   "metadata": {},
   "outputs": [
    {
     "data": {
      "text/plain": [
       "{}"
      ]
     },
     "execution_count": 2,
     "metadata": {},
     "output_type": "execute_result"
    }
   ],
   "source": [
    "import yagmail\n",
    "\n",
    "receiver = \"amadiaheno@berkeley.edu\"\n",
    "body = \"SOMETHING MESSED UP IN THE LAB. GET BACK, NOW!\"\n",
    "\n",
    "yag = yagmail.SMTP(user='e5ultracoldberkeley1@gmail.com', password= 'superradiance', host= 'smtp.gmail.com')\n",
    "yag.send(\n",
    "    to=receiver,\n",
    "    subject=\"E5 Keithley Logger Problem\",\n",
    "    contents=body,\n",
    ")"
   ]
  },
  {
   "cell_type": "code",
   "execution_count": null,
   "metadata": {},
   "outputs": [],
   "source": []
  },
  {
   "cell_type": "code",
   "execution_count": null,
   "metadata": {},
   "outputs": [],
   "source": []
  }
 ],
 "metadata": {
  "kernelspec": {
   "display_name": "Python 2",
   "language": "python",
   "name": "python2"
  },
  "language_info": {
   "codemirror_mode": {
    "name": "ipython",
    "version": 2
   },
   "file_extension": ".py",
   "mimetype": "text/x-python",
   "name": "python",
   "nbconvert_exporter": "python",
   "pygments_lexer": "ipython2",
   "version": "2.7.16"
  }
 },
 "nbformat": 4,
 "nbformat_minor": 2
}
